{
 "cells": [
  {
   "cell_type": "code",
   "execution_count": 7,
   "metadata": {},
   "outputs": [
    {
     "name": "stdout",
     "output_type": "stream",
     "text": [
      "Lets Enjoy....\n",
      "Enjoy\n"
     ]
    }
   ],
   "source": [
    "#lec_16 class and objects \n",
    "class goa:\n",
    "    drink=\"\"\n",
    "    def party(self):\n",
    "        print(\"Lets Enjoy....\")\n",
    "    def beach(self):\n",
    "        print(\"Enjoy\")\n",
    "ramesh=goa()\n",
    "suresh=goa()\n",
    "ramesh.party()\n",
    "suresh.beach()"
   ]
  },
  {
   "cell_type": "code",
   "execution_count": 10,
   "metadata": {},
   "outputs": [
    {
     "name": "stdout",
     "output_type": "stream",
     "text": [
      "Ramesh\n"
     ]
    }
   ],
   "source": [
    "#lec_16 class and objects Ex\n",
    "class goa:\n",
    "    name=\"Ramesh\"\n",
    "    drink=\"\"\n",
    "    def party(self):\n",
    "        print(\"Lets Enjoy....\")\n",
    "    def beach(self):\n",
    "        print(\"Enjoy\")\n",
    "ramesh=goa()\n",
    "suresh=goa()\n",
    "print(ramesh.name)"
   ]
  },
  {
   "cell_type": "code",
   "execution_count": 11,
   "metadata": {},
   "outputs": [
    {
     "name": "stdout",
     "output_type": "stream",
     "text": [
      "ramesh\n"
     ]
    }
   ],
   "source": [
    "#lec_16 class and objects Ex another method\n",
    "class goa:\n",
    "    name=\"Ra\"\n",
    "    drink=\"\"\n",
    "    def party(self):\n",
    "        print(\"Lets Enjoy....\")\n",
    "    def beach(self):\n",
    "        print(\"Enjoy\")\n",
    "ramesh=goa()\n",
    "suresh=goa()\n",
    "ramesh.name=\"ramesh\"\n",
    "print(ramesh.name)"
   ]
  },
  {
   "cell_type": "code",
   "execution_count": 13,
   "metadata": {},
   "outputs": [
    {
     "name": "stdout",
     "output_type": "stream",
     "text": [
      "ramesh\n",
      "abcsd\n"
     ]
    }
   ],
   "source": [
    "#lec_16 class and objects Ex another method\n",
    "class goa:\n",
    "    name=\"abcsd\"\n",
    "    drink=\"\"\n",
    "    def party(self):\n",
    "        print(\"Lets Enjoy....\")\n",
    "    def beach(self):\n",
    "        print(\"Enjoy\")\n",
    "ramesh=goa()\n",
    "suresh=goa()\n",
    "ramesh.name=\"ramesh\"\n",
    "print(ramesh.name)\n",
    "print(suresh.name)"
   ]
  },
  {
   "cell_type": "code",
   "execution_count": 14,
   "metadata": {},
   "outputs": [
    {
     "name": "stdout",
     "output_type": "stream",
     "text": [
      "ramesh\n",
      "Suresh\n"
     ]
    }
   ],
   "source": [
    "#lec_16 class and objects Ex another method_continuation\n",
    "class goa:\n",
    "    name=\"abcsd\"\n",
    "    drink=\"\"\n",
    "    def party(self):\n",
    "        print(\"Lets Enjoy....\")\n",
    "    def beach(self):\n",
    "        print(\"Enjoy\")\n",
    "ramesh=goa()\n",
    "suresh=goa()\n",
    "ramesh.name=\"ramesh\"\n",
    "suresh.name=\"Suresh\"\n",
    "print(ramesh.name)\n",
    "print(suresh.name)"
   ]
  },
  {
   "cell_type": "code",
   "execution_count": 19,
   "metadata": {},
   "outputs": [
    {
     "name": "stdout",
     "output_type": "stream",
     "text": [
      "ramesh\n",
      "Drink: yes\n",
      "Suresh\n",
      "Drink: no\n"
     ]
    }
   ],
   "source": [
    "#lec_16 class and objects Ex another method_continuation\n",
    "class goa:\n",
    "    name=\"abcsd\"\n",
    "    drink=\"\"\n",
    "    def party(self):\n",
    "        print(\"Lets Enjoy....\")\n",
    "    def beach(self):\n",
    "        print(\"Enjoy\")\n",
    "ramesh=goa()\n",
    "suresh=goa()\n",
    "ramesh.name=\"ramesh\"\n",
    "suresh.name=\"Suresh\"\n",
    "ramesh.drink=\"yes\"\n",
    "suresh.drink=\"no\"\n",
    "print(ramesh.name)\n",
    "print(\"Drink:\",ramesh.drink)\n",
    "print(suresh.name)\n",
    "print(\"Drink:\",suresh.drink)"
   ]
  },
  {
   "cell_type": "code",
   "execution_count": 23,
   "metadata": {},
   "outputs": [
    {
     "name": "stdout",
     "output_type": "stream",
     "text": [
      "Lets Enjoy....\n",
      "ramesh\n",
      "Drink: yes\n",
      "Enjoy\n",
      "Suresh\n",
      "Drink: no\n"
     ]
    }
   ],
   "source": [
    "#lec_16 class and objects Ex another method_continuation\n",
    "class goa:\n",
    "    name=\"abcsd\"\n",
    "    drink=\"\"\n",
    "    def party(self):\n",
    "        print(\"Lets Enjoy....\")\n",
    "    def beach(self):\n",
    "        print(\"Enjoy\")\n",
    "ramesh=goa()\n",
    "suresh=goa()\n",
    "ramesh.name=\"ramesh\"\n",
    "suresh.name=\"Suresh\"\n",
    "ramesh.drink=\"yes\"\n",
    "suresh.drink=\"no\"\n",
    "ramesh.party()\n",
    "print(ramesh.name)\n",
    "print(\"Drink:\",ramesh.drink)\n",
    "suresh.beach()\n",
    "print(suresh.name)\n",
    "print(\"Drink:\",suresh.drink)\n",
    " "
   ]
  },
  {
   "cell_type": "code",
   "execution_count": 25,
   "metadata": {},
   "outputs": [
    {
     "name": "stdout",
     "output_type": "stream",
     "text": [
      "50000\n",
      "i5\n",
      "8gb\n",
      "60000\n",
      "i5\n",
      "16gb\n",
      "70000\n",
      "i5\n",
      "32gb\n"
     ]
    }
   ],
   "source": [
    "#lec_16 class and objects Ex_1\n",
    "class laptop:\n",
    "    price=0\n",
    "    processor=\"\"\n",
    "    ram=\"\"\n",
    "hp=laptop()\n",
    "dell=laptop()\n",
    "lenovo=laptop()\n",
    "\n",
    "hp.price=50000\n",
    "hp.processor=\"i5\"\n",
    "hp.ram=\"8gb\"\n",
    "print(hp.price)\n",
    "print(hp.processor)\n",
    "print(hp.ram)\n",
    "\n",
    "dell.price=60000\n",
    "dell.processor=\"i5\"\n",
    "dell.ram=\"16gb\"\n",
    "print(dell.price)\n",
    "print(dell.processor)\n",
    "print(dell.ram)\n",
    "\n",
    "lenovo.price=70000\n",
    "lenovo.processor=\"i5\"\n",
    "lenovo.ram=\"32gb\"\n",
    "print(lenovo.price)\n",
    "print(lenovo.processor)\n",
    "print(lenovo.ram)\n"
   ]
  },
  {
   "cell_type": "code",
   "execution_count": null,
   "metadata": {},
   "outputs": [],
   "source": []
  }
 ],
 "metadata": {
  "kernelspec": {
   "display_name": "Python 3",
   "language": "python",
   "name": "python3"
  },
  "language_info": {
   "codemirror_mode": {
    "name": "ipython",
    "version": 3
   },
   "file_extension": ".py",
   "mimetype": "text/x-python",
   "name": "python",
   "nbconvert_exporter": "python",
   "pygments_lexer": "ipython3",
   "version": "3.7.0"
  }
 },
 "nbformat": 4,
 "nbformat_minor": 2
}

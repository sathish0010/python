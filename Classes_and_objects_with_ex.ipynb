{
 "cells": [
  {
   "cell_type": "code",
   "execution_count": 1,
   "metadata": {},
   "outputs": [
    {
     "name": "stdout",
     "output_type": "stream",
     "text": [
      "Name: manoj\n",
      "Reg_no: 1\n",
      "Name: raj\n",
      "Reg_no: 2\n"
     ]
    }
   ],
   "source": [
    "#lec_18 ex_1\n",
    "class student:\n",
    "    def __init__(self):\n",
    "        self.name=\"\"\n",
    "        self.reg_num=\"\"\n",
    "    def display(self):\n",
    "        print(\"Name:\",self.name)\n",
    "        print(\"Reg_no:\",self.reg_num)\n",
    "s1=student()\n",
    "s2=student()\n",
    "s1.name=\"manoj\"\n",
    "s1.reg_num=\"1\"\n",
    "s2.name=\"raj\"\n",
    "s2.reg_num=\"2\"\n",
    "\n",
    "s1.display()\n",
    "s2.display()"
   ]
  },
  {
   "cell_type": "code",
   "execution_count": 6,
   "metadata": {},
   "outputs": [
    {
     "name": "stdout",
     "output_type": "stream",
     "text": [
      "red\n"
     ]
    }
   ],
   "source": [
    "#lec_18 ex_2\n",
    "class fruit:\n",
    "    def __init__(self,col):\n",
    "        self.color=col\n",
    "\n",
    "apple=fruit(\"red\")\n",
    "print(apple.color)"
   ]
  },
  {
   "cell_type": "code",
   "execution_count": 9,
   "metadata": {},
   "outputs": [
    {
     "name": "stdout",
     "output_type": "stream",
     "text": [
      "name: tom\n",
      "Reg_num: 2\n",
      "name: jerry\n",
      "Reg_num: 3\n"
     ]
    }
   ],
   "source": [
    "#lec_18 ex_3\n",
    "class teacher:\n",
    "    def __init__(self,name,reg):\n",
    "        self.name=name\n",
    "        self.reg_no=reg\n",
    "    def display(self):\n",
    "        print(\"name:\",self.name)\n",
    "        print(\"Reg_num:\",self.reg_no)\n",
    "t1=teacher(\"tom\",\"2\")\n",
    "t2=teacher(\"jerry\",\"3\")\n",
    "t1.display()\n",
    "t2.display()\n",
    "\n",
    "\n"
   ]
  },
  {
   "cell_type": "code",
   "execution_count": 1,
   "metadata": {},
   "outputs": [
    {
     "name": "stdout",
     "output_type": "stream",
     "text": [
      "Name: Sathish\n",
      "Register: 01\n",
      "Name: Ram\n",
      "Register: 02\n"
     ]
    }
   ],
   "source": [
    "#lec_18 ex_3 \n",
    "class teacher:\n",
    "    def __init__(self):\n",
    "        self.name=\"\"\n",
    "        self.register=\"\"\n",
    "    def display(self):\n",
    "        print(\"Name:\",self.name)\n",
    "        print(\"Register:\",self.register)\n",
    "t1=teacher()\n",
    "t2=teacher()\n",
    "t1.name=\"Sathish\"\n",
    "t1.register=\"01\"\n",
    "t1.display()\n",
    "t2.name=\"Ram\"\n",
    "t2.register=\"02\"\n",
    "t2.display()"
   ]
  },
  {
   "cell_type": "code",
   "execution_count": 9,
   "metadata": {},
   "outputs": [
    {
     "name": "stdout",
     "output_type": "stream",
     "text": [
      "Name: ram\n",
      "Reg: 01\n",
      "Name: Sai\n",
      "Reg: 02\n"
     ]
    }
   ],
   "source": [
    "#lec_18 ex_3 another method\n",
    "class teacher:\n",
    "    def __init__(self,name,reg):\n",
    "        self.name=name\n",
    "        self.reg_no=reg\n",
    "    def display(self):\n",
    "        print(\"Name:\",self.name)\n",
    "        print(\"Reg:\",self.reg_no)\n",
    "t1=teacher(\"ram\",\"01\")\n",
    "t2=teacher(\"Sai\",\"02\")\n",
    "t1.display()\n",
    "t2.display()\n"
   ]
  },
  {
   "cell_type": "code",
   "execution_count": 21,
   "metadata": {},
   "outputs": [
    {
     "name": "stdout",
     "output_type": "stream",
     "text": [
      "add 5\n",
      "sub: 1\n",
      "multiply: 6\n",
      "division: 1.5\n"
     ]
    }
   ],
   "source": [
    "#lec_18 ex_4\n",
    "class calculator:\n",
    "    def __init__(self,a,b):\n",
    "        self.num1=a\n",
    "        self.num2=b\n",
    "    def add(self):\n",
    "        print(\"add\",self.num1+self.num2)\n",
    "    def sub(self):\n",
    "        print(\"sub:\",self.num1-self.num2)\n",
    "    def multiply(self):\n",
    "        print(\"multiply:\",self.num1*self.num2)\n",
    "    def div(self):\n",
    "        print(\"division:\",self.num1/self.num2)\n",
    "obj=calculator(3,2)\n",
    "obj.add()\n",
    "obj.sub()\n",
    "obj.multiply()\n",
    "obj.div()"
   ]
  }
 ],
 "metadata": {
  "kernelspec": {
   "display_name": "Python 3",
   "language": "python",
   "name": "python3"
  },
  "language_info": {
   "codemirror_mode": {
    "name": "ipython",
    "version": 3
   },
   "file_extension": ".py",
   "mimetype": "text/x-python",
   "name": "python",
   "nbconvert_exporter": "python",
   "pygments_lexer": "ipython3",
   "version": "3.7.0"
  }
 },
 "nbformat": 4,
 "nbformat_minor": 2
}

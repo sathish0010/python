{
 "cells": [
  {
   "cell_type": "code",
   "execution_count": 4,
   "metadata": {},
   "outputs": [
    {
     "name": "stdout",
     "output_type": "stream",
     "text": [
      "google\n"
     ]
    }
   ],
   "source": [
    "#lec_25\n",
    "class company():\n",
    "    def __init__(self):\n",
    "        self.companyname=\"google\"\n",
    "c1=company()\n",
    "print(c1.companyname)"
   ]
  },
  {
   "cell_type": "code",
   "execution_count": 6,
   "metadata": {},
   "outputs": [
    {
     "name": "stdout",
     "output_type": "stream",
     "text": [
      "goooooogle\n"
     ]
    }
   ],
   "source": [
    "#lec_25 public variable _ ex\n",
    "class company():\n",
    "    def __init__(self):\n",
    "        self.companyname=\"google\"\n",
    "c1=company()\n",
    "c1.companyname=\"goooooogle\"\n",
    "print(c1.companyname)"
   ]
  },
  {
   "cell_type": "code",
   "execution_count": 19,
   "metadata": {},
   "outputs": [
    {
     "name": "stdout",
     "output_type": "stream",
     "text": [
      "google\n"
     ]
    }
   ],
   "source": [
    "#lec_25 private variable ex\n",
    "class company():\n",
    "    def __init__(self):\n",
    "        self.__companyname=\"google\" #__ denotes private variable\n",
    "    def companyname(self):\n",
    "        print(self.__companyname)\n",
    "c1=company()\n",
    "c1.companyname()"
   ]
  },
  {
   "cell_type": "code",
   "execution_count": 20,
   "metadata": {},
   "outputs": [
    {
     "name": "stdout",
     "output_type": "stream",
     "text": [
      "google\n"
     ]
    }
   ],
   "source": [
    "#lec_25 protected variable ex\n",
    "class company():\n",
    "    def __init__(self):\n",
    "        self._companyname=\"google\" #_ denotes protected variable\n",
    "    def companyname(self):\n",
    "        print(self._companyname)\n",
    "c1=company()\n",
    "c1.companyname()"
   ]
  },
  {
   "cell_type": "code",
   "execution_count": 22,
   "metadata": {},
   "outputs": [
    {
     "name": "stdout",
     "output_type": "stream",
     "text": [
      "gooogle\n"
     ]
    }
   ],
   "source": [
    "#lec_25 protected variable another ex\n",
    "class company():\n",
    "    def __init__(self):\n",
    "        self._companyname=\"gooogle\"\n",
    "c1=company()\n",
    "print(c1._companyname)"
   ]
  },
  {
   "cell_type": "code",
   "execution_count": 25,
   "metadata": {},
   "outputs": [
    {
     "name": "stdout",
     "output_type": "stream",
     "text": [
      "google\n"
     ]
    }
   ],
   "source": [
    "#lec_25 inheritance using protected variable another ex\n",
    "class company():\n",
    "    def __init__(self):\n",
    "        self._companyname=\"gooogle\"\n",
    "class b(company):\n",
    "    def __init__(self):\n",
    "        self.companyname=\"google\"\n",
    "b1=b()\n",
    "print(b1.companyname)"
   ]
  },
  {
   "cell_type": "code",
   "execution_count": 26,
   "metadata": {},
   "outputs": [
    {
     "name": "stdout",
     "output_type": "stream",
     "text": [
      "google\n"
     ]
    }
   ],
   "source": [
    "#lec_25 inheritance using protected variable another ex\n",
    "class company():\n",
    "    def __init__(self):\n",
    "        self._companyname=\"gooogle\"\n",
    "class b(company):\n",
    "    def __init__(self):\n",
    "        self._companyname=\"google\"\n",
    "b1=b()\n",
    "print(b1._companyname)"
   ]
  }
 ],
 "metadata": {
  "kernelspec": {
   "display_name": "Python 3",
   "language": "python",
   "name": "python3"
  },
  "language_info": {
   "codemirror_mode": {
    "name": "ipython",
    "version": 3
   },
   "file_extension": ".py",
   "mimetype": "text/x-python",
   "name": "python",
   "nbconvert_exporter": "python",
   "pygments_lexer": "ipython3",
   "version": "3.7.0"
  }
 },
 "nbformat": 4,
 "nbformat_minor": 2
}

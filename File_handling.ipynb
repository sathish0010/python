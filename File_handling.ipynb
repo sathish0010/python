{
 "cells": [
  {
   "cell_type": "code",
   "execution_count": 7,
   "metadata": {},
   "outputs": [
    {
     "name": "stdout",
     "output_type": "stream",
     "text": [
      "Apple\n",
      "Orange\n",
      "Mango\n",
      "Banana\n",
      "Papaya\n"
     ]
    }
   ],
   "source": [
    "#lec_27 File handling ex_read\n",
    "f=open(\"Fruits.txt\")\n",
    "view=f.read()\n",
    "print(view)"
   ]
  },
  {
   "cell_type": "code",
   "execution_count": 13,
   "metadata": {},
   "outputs": [
    {
     "name": "stdout",
     "output_type": "stream",
     "text": [
      "<_io.TextIOWrapper name='Fruits.txt' mode='w' encoding='cp1252'>\n"
     ]
    }
   ],
   "source": [
    "#lec_27 File handling ex_ write\n",
    "f=open(\"Fruits.txt\",\"w\")\n",
    "f.write(\"chikoo\")\n",
    "print(f)\n",
    "f.close() "
   ]
  },
  {
   "cell_type": "code",
   "execution_count": 15,
   "metadata": {},
   "outputs": [
    {
     "name": "stdout",
     "output_type": "stream",
     "text": [
      "<_io.TextIOWrapper name='Fruits.txt' mode='a' encoding='cp1252'>\n",
      "Apple\n",
      "Orange\n",
      "Mango\n",
      "Banana\n",
      "Papaya\n"
     ]
    }
   ],
   "source": [
    "#lec_27 File handling ex_ append method\n",
    "f=open(\"Fruits.txt\",\"a\")\n",
    "f.write(\"\\nBanana\\n\")\n",
    "f.write(\"Papaya\")\n",
    "print(f)\n",
    "f.close()\n",
    "\n",
    "f=open(\"Fruits.txt\",\"r\")\n",
    "print(f.read())"
   ]
  },
  {
   "cell_type": "code",
   "execution_count": 16,
   "metadata": {},
   "outputs": [
    {
     "name": "stdout",
     "output_type": "stream",
     "text": [
      "<_io.TextIOWrapper name='Fruits.txt' mode='a' encoding='cp1252'>\n",
      "Apple\n",
      "\n"
     ]
    }
   ],
   "source": [
    "#lec_27 File handling ex_ Readline method\n",
    "f=open(\"Fruits.txt\",\"a\")\n",
    "f.write(\"\\nBanana\\n\")\n",
    "f.write(\"Papaya\")\n",
    "print(f)\n",
    "f.close()\n",
    "\n",
    "f=open(\"Fruits.txt\",\"r\")\n",
    "print(f.readline())"
   ]
  },
  {
   "cell_type": "code",
   "execution_count": 22,
   "metadata": {},
   "outputs": [
    {
     "name": "stdout",
     "output_type": "stream",
     "text": [
      "<_io.TextIOWrapper name='Fruits.txt' mode='w' encoding='cp1252'>\n",
      "<_io.TextIOWrapper name='fruits.txt' mode='a' encoding='cp1252'>\n",
      "apple\n",
      "banana\n",
      "mango\n",
      "pomogranate\n"
     ]
    }
   ],
   "source": [
    "#lec_27 File handling ex\n",
    "#write methode\n",
    "f=open(\"Fruits.txt\",\"w\")\n",
    "f.write(\"apple\\n\")\n",
    "f.write(\"banana\\n\")\n",
    "print(f)\n",
    "f.close()\n",
    "#append method\n",
    "f=open(\"fruits.txt\",\"a\")\n",
    "f.write(\"mango\\n\")\n",
    "f.write(\"pomogranate\")\n",
    "print(f)\n",
    "f.close()\n",
    "#r+ means read or write method\n",
    "f=open(\"Fruits.txt\",\"r+\")\n",
    "print(f.read())\n",
    "f.close()"
   ]
  }
 ],
 "metadata": {
  "kernelspec": {
   "display_name": "Python 3",
   "language": "python",
   "name": "python3"
  },
  "language_info": {
   "codemirror_mode": {
    "name": "ipython",
    "version": 3
   },
   "file_extension": ".py",
   "mimetype": "text/x-python",
   "name": "python",
   "nbconvert_exporter": "python",
   "pygments_lexer": "ipython3",
   "version": "3.7.0"
  }
 },
 "nbformat": 4,
 "nbformat_minor": 2
}

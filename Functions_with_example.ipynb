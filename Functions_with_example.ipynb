{
 "cells": [
  {
   "cell_type": "code",
   "execution_count": 8,
   "metadata": {},
   "outputs": [
    {
     "name": "stdout",
     "output_type": "stream",
     "text": [
      "addition\n",
      "20\n",
      "subtraction\n",
      "10\n",
      "multiply\n",
      "200\n",
      "divion\n",
      "2.5\n"
     ]
    }
   ],
   "source": [
    "#lec_14 function ex_1\n",
    "def add():\n",
    "    print(\"addition\")\n",
    "    a=int(input(\"enter a:\"))\n",
    "    b=int(input(\"enter b:\"))\n",
    "    print(a+b)\n",
    "add()\n",
    "\n",
    "def sub():\n",
    "    print(\"subtraction\")\n",
    "    a=int(input(\"enter a:\"))\n",
    "    b=int(input(\"enter b:\"))\n",
    "    print(a-b)\n",
    "sub()\n",
    "\n",
    "def multiply():\n",
    "    print(\"multiply\")\n",
    "    a=int(input(\"enter a:\"))\n",
    "    b=int(input(\"enter b:\"))\n",
    "    print(a*b)\n",
    "multiply()\n",
    "\n",
    "def division():\n",
    "    print(\"divion\")\n",
    "    a=int(input(\"enter a:\"))\n",
    "    b=int(input(\"enter b:\"))\n",
    "    print(a/b)\n",
    "division()\n",
    "\n",
    "\n"
   ]
  },
  {
   "cell_type": "code",
   "execution_count": 9,
   "metadata": {},
   "outputs": [
    {
     "name": "stdout",
     "output_type": "stream",
     "text": [
      "message\n"
     ]
    }
   ],
   "source": [
    "#lec_14 function ex_\n",
    "def painter():\n",
    "    print(\"message\")\n",
    "painter()"
   ]
  },
  {
   "cell_type": "code",
   "execution_count": 13,
   "metadata": {},
   "outputs": [
    {
     "name": "stdout",
     "output_type": "stream",
     "text": [
      "Message: paint my house\n"
     ]
    }
   ],
   "source": [
    "#lec_14 ex\n",
    "def painter(ab):\n",
    "    print(\"Message:\",ab)\n",
    "painter(\"paint my house\")"
   ]
  },
  {
   "cell_type": "code",
   "execution_count": 2,
   "metadata": {},
   "outputs": [
    {
     "ename": "TypeError",
     "evalue": "findevenorodd() takes 0 positional arguments but 1 was given",
     "output_type": "error",
     "traceback": [
      "\u001b[1;31m---------------------------------------------------------------------------\u001b[0m",
      "\u001b[1;31mTypeError\u001b[0m                                 Traceback (most recent call last)",
      "\u001b[1;32m~\\AppData\\Local\\Temp\\ipykernel_18668\\1117853881.py\u001b[0m in \u001b[0;36m<module>\u001b[1;34m\u001b[0m\n\u001b[0;32m      6\u001b[0m         \u001b[0mprint\u001b[0m\u001b[1;33m(\u001b[0m\u001b[1;34m\"number is odd\"\u001b[0m\u001b[1;33m)\u001b[0m\u001b[1;33m\u001b[0m\u001b[0m\n\u001b[0;32m      7\u001b[0m \u001b[0ma\u001b[0m\u001b[1;33m=\u001b[0m\u001b[0mint\u001b[0m\u001b[1;33m(\u001b[0m\u001b[0minput\u001b[0m\u001b[1;33m(\u001b[0m\u001b[1;34m\"enter the number:\"\u001b[0m\u001b[1;33m)\u001b[0m\u001b[1;33m)\u001b[0m\u001b[1;33m\u001b[0m\u001b[0m\n\u001b[1;32m----> 8\u001b[1;33m \u001b[0mfindevenorodd\u001b[0m\u001b[1;33m(\u001b[0m\u001b[0ma\u001b[0m\u001b[1;33m)\u001b[0m\u001b[1;33m\u001b[0m\u001b[0m\n\u001b[0m",
      "\u001b[1;31mTypeError\u001b[0m: findevenorodd() takes 0 positional arguments but 1 was given"
     ]
    }
   ],
   "source": [
    "#lec_14 function ex_2\n",
    "def findevenorodd():\n",
    "    if(b%2==0):\n",
    "        print(\"number is even\")\n",
    "    else:\n",
    "        print(\"number is odd\")\n",
    "a=int(input(\"enter the number:\"))\n",
    "findevenorodd(a)\n"
   ]
  },
  {
   "cell_type": "code",
   "execution_count": 11,
   "metadata": {},
   "outputs": [
    {
     "name": "stdout",
     "output_type": "stream",
     "text": [
      "21\n",
      "22\n",
      "23\n",
      "24\n",
      "25\n",
      "26\n",
      "27\n",
      "28\n",
      "29\n",
      "30\n",
      "31\n",
      "32\n",
      "33\n",
      "34\n",
      "35\n",
      "36\n",
      "37\n",
      "38\n",
      "39\n",
      "40\n",
      "41\n",
      "42\n",
      "43\n",
      "44\n",
      "45\n",
      "46\n",
      "47\n",
      "48\n",
      "49\n",
      "50\n"
     ]
    }
   ],
   "source": [
    "#lec_14 function ex_4\n",
    "def printrange(r1,r2):\n",
    "    for i in range(r1,r2):\n",
    "        print(i)\n",
    "a=int(input(\"enter a:\"))\n",
    "b=int(input(\"enter b:\"))\n",
    "printrange(a,b)"
   ]
  },
  {
   "cell_type": "code",
   "execution_count": 12,
   "metadata": {},
   "outputs": [
    {
     "name": "stdout",
     "output_type": "stream",
     "text": [
      "pass\n"
     ]
    }
   ],
   "source": [
    "#lec_14 function ex_3\n",
    "def printpassorfail(num):\n",
    "    if(num>35):\n",
    "        print(\"pass\")\n",
    "    else:\n",
    "        print(\"fail\")\n",
    "a=int(input(\"enter the number:\"))\n",
    "printpassorfail(a)"
   ]
  },
  {
   "cell_type": "code",
   "execution_count": null,
   "metadata": {},
   "outputs": [],
   "source": []
  }
 ],
 "metadata": {
  "kernelspec": {
   "display_name": "Python 3",
   "language": "python",
   "name": "python3"
  },
  "language_info": {
   "codemirror_mode": {
    "name": "ipython",
    "version": 3
   },
   "file_extension": ".py",
   "mimetype": "text/x-python",
   "name": "python",
   "nbconvert_exporter": "python",
   "pygments_lexer": "ipython3",
   "version": "3.7.0"
  }
 },
 "nbformat": 4,
 "nbformat_minor": 2
}

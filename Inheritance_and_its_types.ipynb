{
 "cells": [
  {
   "cell_type": "code",
   "execution_count": 4,
   "metadata": {},
   "outputs": [
    {
     "name": "stdout",
     "output_type": "stream",
     "text": [
      "sons laptop\n"
     ]
    }
   ],
   "source": [
    "#lec_21 inheritance \n",
    "class dad():\n",
    "    def phone(self):\n",
    "        print(\"dads phone\")\n",
    "class son():\n",
    "    def laptop(self):\n",
    "        print(\"sons laptop\")\n",
    "ram=son()\n",
    "ram.laptop()\n"
   ]
  },
  {
   "cell_type": "code",
   "execution_count": 5,
   "metadata": {},
   "outputs": [
    {
     "name": "stdout",
     "output_type": "stream",
     "text": [
      "sons laptop\n",
      "dads phone\n"
     ]
    }
   ],
   "source": [
    "#lec_21 inheritance (Single inheritance)\n",
    "class dad():\n",
    "    def phone(self):\n",
    "        print(\"dads phone\")\n",
    "class son(dad):\n",
    "    def laptop(self):\n",
    "        print(\"sons laptop\")\n",
    "ram=son()\n",
    "ram.laptop()\n",
    "ram.phone()"
   ]
  },
  {
   "cell_type": "code",
   "execution_count": 9,
   "metadata": {},
   "outputs": [
    {
     "name": "stdout",
     "output_type": "stream",
     "text": [
      "sons laptop\n",
      "dads phone\n",
      "moms sweet\n"
     ]
    }
   ],
   "source": [
    "#lec_21 inheritance (multiple inheritance)\n",
    "class dad():\n",
    "    def phone(self):\n",
    "        print(\"dads phone\")\n",
    "class mom():\n",
    "    def sweet(self):\n",
    "        print(\"moms sweet\")\n",
    "class son(dad,mom):\n",
    "    def laptop(self):\n",
    "        print(\"sons laptop\")\n",
    "ram=son()\n",
    "ram.laptop()\n",
    "ram.phone()\n",
    "ram.sweet()"
   ]
  },
  {
   "cell_type": "code",
   "execution_count": 14,
   "metadata": {},
   "outputs": [
    {
     "name": "stdout",
     "output_type": "stream",
     "text": [
      "dads money\n",
      "grandpa phone\n",
      "sons laptop\n"
     ]
    }
   ],
   "source": [
    "#lec_21 multilevel inheritance\n",
    "class grandpa():\n",
    "    def phone(self):\n",
    "        print(\"grandpa phone\")\n",
    "class dad(grandpa):\n",
    "    def money(self):\n",
    "        print(\"dads money\")\n",
    "class son(dad):\n",
    "    def laptop(self):\n",
    "        print(\"sons laptop\")\n",
    "ram=son()\n",
    "ram.money()\n",
    "ram.phone()\n",
    "ram.laptop()"
   ]
  },
  {
   "cell_type": "code",
   "execution_count": 15,
   "metadata": {},
   "outputs": [
    {
     "name": "stdout",
     "output_type": "stream",
     "text": [
      "dads money\n",
      "grandpa phone\n"
     ]
    }
   ],
   "source": [
    "#lec_21 multilevel inheritance another ex\n",
    "class grandpa():\n",
    "    def phone(self):\n",
    "        print(\"grandpa phone\")\n",
    "class dad(grandpa):\n",
    "    def money(self):\n",
    "        print(\"dads money\")\n",
    "class son(dad):\n",
    "    def laptop(self):\n",
    "        print(\"sons laptop\")\n",
    "ram=son()\n",
    "ram.money()\n",
    "mukesh=dad()\n",
    "mukesh.phone()"
   ]
  },
  {
   "cell_type": "code",
   "execution_count": 21,
   "metadata": {},
   "outputs": [
    {
     "name": "stdout",
     "output_type": "stream",
     "text": [
      "dads money\n",
      "dads money\n"
     ]
    }
   ],
   "source": [
    "#lec21 inheritance (hierarchial inheritance)\n",
    "class dad():\n",
    "    def money(self):\n",
    "        print(\"dads money\")\n",
    "class son1(dad):\n",
    "    pass\n",
    "class son2(dad):\n",
    "    pass\n",
    "class son3(dad):\n",
    "    pass\n",
    "ram=son2()\n",
    "ram.money() \n",
    "mukesh=son1()\n",
    "mukesh.money()\n"
   ]
  },
  {
   "cell_type": "code",
   "execution_count": 22,
   "metadata": {},
   "outputs": [
    {
     "name": "stdout",
     "output_type": "stream",
     "text": [
      "dads money\n",
      "important land\n"
     ]
    }
   ],
   "source": [
    "#lec21 inheritance (hybrid inheritance)\n",
    "class dad():\n",
    "    def money(self):\n",
    "        print(\"dads money\")\n",
    "class land():\n",
    "    def important(self):\n",
    "        print(\"important land\")\n",
    "class son1(dad,land):\n",
    "    pass\n",
    "class son2(dad):\n",
    "    pass\n",
    "class son3(dad):\n",
    "    pass\n",
    "mukesh=son1()\n",
    "mukesh.money()\n",
    "mukesh.important() "
   ]
  }
 ],
 "metadata": {
  "kernelspec": {
   "display_name": "Python 3",
   "language": "python",
   "name": "python3"
  },
  "language_info": {
   "codemirror_mode": {
    "name": "ipython",
    "version": 3
   },
   "file_extension": ".py",
   "mimetype": "text/x-python",
   "name": "python",
   "nbconvert_exporter": "python",
   "pygments_lexer": "ipython3",
   "version": "3.7.0"
  }
 },
 "nbformat": 4,
 "nbformat_minor": 2
}

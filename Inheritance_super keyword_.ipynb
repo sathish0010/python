{
 "cells": [
  {
   "cell_type": "code",
   "execution_count": 13,
   "metadata": {},
   "outputs": [
    {
     "name": "stdout",
     "output_type": "stream",
     "text": [
      "0\n"
     ]
    },
    {
     "data": {
      "text/plain": [
       "('area of rectangle:', 200)"
      ]
     },
     "execution_count": 13,
     "metadata": {},
     "output_type": "execute_result"
    }
   ],
   "source": [
    "#lec_24 ex1\n",
    "class shape():\n",
    "    def area(self):\n",
    "        print(\"0\")\n",
    "s1=shape()\n",
    "s1.area()\n",
    "\n",
    "class rectangle(shape):\n",
    "    def area(self):\n",
    "        l=10\n",
    "        b=20\n",
    "        return \"area of rectangle:\",l*b\n",
    "r1=rectangle()\n",
    "r1.area()\n"
   ]
  },
  {
   "cell_type": "code",
   "execution_count": 16,
   "metadata": {},
   "outputs": [
    {
     "name": "stdout",
     "output_type": "stream",
     "text": [
      "Name: A\n",
      "Grade: John\n"
     ]
    }
   ],
   "source": [
    "#lec_24 ex 2\n",
    "class person():\n",
    "    def __init__(self,name): #takes name as parameter\n",
    "        self.name=name\n",
    "    \n",
    "class student(person):\n",
    "    def __init__(self,grade,name):\n",
    "        super(). __init__(name)\n",
    "        self.grade=grade\n",
    "    def display(self):\n",
    "        print(\"Name:\",self.name)\n",
    "        print(\"Grade:\",self.grade)\n",
    "        \n",
    "p1=student(\"John\",\"A\")\n",
    "p1.display() \n",
    "\n"
   ]
  },
  {
   "cell_type": "code",
   "execution_count": 11,
   "metadata": {},
   "outputs": [
    {
     "name": "stdout",
     "output_type": "stream",
     "text": [
      "vehicle started\n"
     ]
    },
    {
     "data": {
      "text/plain": [
       "'car started'"
      ]
     },
     "execution_count": 11,
     "metadata": {},
     "output_type": "execute_result"
    }
   ],
   "source": [
    "#lec_24 ex_3\n",
    "class vehicle():\n",
    "    def start(self):\n",
    "        print(\"vehicle started\")\n",
    "c1=vehicle()\n",
    "c1.start()\n",
    "class car(vehicle):\n",
    "    def start(self):\n",
    "        return\"car started\"\n",
    "c1=car()\n",
    "c1.start()\n"
   ]
  },
  {
   "cell_type": "code",
   "execution_count": 18,
   "metadata": {},
   "outputs": [
    {
     "name": "stdout",
     "output_type": "stream",
     "text": [
      "Name: 40000\n",
      "Salary: IT\n",
      "Dept: Sathish\n"
     ]
    }
   ],
   "source": [
    "#lec_24 ex 4\n",
    "class employee():\n",
    "    def __init__(self,name,salary):\n",
    "        self.name=name\n",
    "        self.salary=salary\n",
    "class manager(employee):\n",
    "    def __init__(self,department,name,salary):\n",
    "        super(). __init__(name,salary)\n",
    "        self.department=department\n",
    "    def display(self):\n",
    "        print(\"Name:\",self.name)\n",
    "        print(\"Salary:\",self.salary)\n",
    "        print(\"Dept:\",self.department)\n",
    "m1=manager(\"Sathish\",\"40000\",\"IT\")\n",
    "m1.display()"
   ]
  }
 ],
 "metadata": {
  "kernelspec": {
   "display_name": "Python 3",
   "language": "python",
   "name": "python3"
  },
  "language_info": {
   "codemirror_mode": {
    "name": "ipython",
    "version": 3
   },
   "file_extension": ".py",
   "mimetype": "text/x-python",
   "name": "python",
   "nbconvert_exporter": "python",
   "pygments_lexer": "ipython3",
   "version": "3.7.0"
  }
 },
 "nbformat": 4,
 "nbformat_minor": 2
}

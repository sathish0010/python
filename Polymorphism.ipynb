{
 "cells": [
  {
   "cell_type": "code",
   "execution_count": 4,
   "metadata": {},
   "outputs": [
    {
     "name": "stdout",
     "output_type": "stream",
     "text": [
      "7\n"
     ]
    }
   ],
   "source": [
    "def add():\n",
    "    a=int(input(\"enter a:\"))\n",
    "    b=int(input(\"enter b:\"))        \n",
    "    print(a+b)\n",
    "add()"
   ]
  },
  {
   "cell_type": "code",
   "execution_count": 6,
   "metadata": {},
   "outputs": [
    {
     "name": "stdout",
     "output_type": "stream",
     "text": [
      "40\n"
     ]
    }
   ],
   "source": [
    "def add(a=10):\n",
    "    print(a)\n",
    "add(40)"
   ]
  },
  {
   "cell_type": "code",
   "execution_count": null,
   "metadata": {},
   "outputs": [],
   "source": []
  },
  {
   "cell_type": "code",
   "execution_count": 9,
   "metadata": {},
   "outputs": [
    {
     "name": "stdout",
     "output_type": "stream",
     "text": [
      "animal makes sound\n"
     ]
    }
   ],
   "source": [
    "class animal():\n",
    "    def sound(self):\n",
    "        print(\"animal makes sound\")\n",
    "\n",
    "class dog(animal):\n",
    "    pass\n",
    "d1=dog()\n",
    "d1.sound()\n",
    "\n"
   ]
  },
  {
   "cell_type": "code",
   "execution_count": 25,
   "metadata": {},
   "outputs": [
    {
     "name": "stdout",
     "output_type": "stream",
     "text": [
      "Dog barks\n"
     ]
    }
   ],
   "source": [
    "#over ride method\n",
    "class animal():\n",
    "    def sound(self):\n",
    "        print(\"animal makes sound\")\n",
    "\n",
    "class dog(animal):\n",
    "    def sound(self):\n",
    "        print(\"Dog barks\")\n",
    "d1=dog()\n",
    "d1.sound()\n",
    "\n"
   ]
  },
  {
   "cell_type": "code",
   "execution_count": 28,
   "metadata": {},
   "outputs": [
    {
     "name": "stdout",
     "output_type": "stream",
     "text": [
      "Animal makes sound\n",
      "Dogs bark\n",
      "Birds sing\n"
     ]
    }
   ],
   "source": [
    "#lec_23 Polymorphism Ex\n",
    "class animal():\n",
    "    def sound(self):\n",
    "        print(\"Animal makes sound\")\n",
    "d1=animal()\n",
    "d1.sound()\n",
    "\n",
    "class dog(animal):\n",
    "    def sound(self):\n",
    "        print(\"Dogs bark\")\n",
    "d1=dog()\n",
    "d1.sound()\n",
    "\n",
    "class birds():\n",
    "    def sound(self):\n",
    "        print(\"Birds sing\")\n",
    "d1=birds()\n",
    "d1.sound()"
   ]
  }
 ],
 "metadata": {
  "kernelspec": {
   "display_name": "Python 3",
   "language": "python",
   "name": "python3"
  },
  "language_info": {
   "codemirror_mode": {
    "name": "ipython",
    "version": 3
   },
   "file_extension": ".py",
   "mimetype": "text/x-python",
   "name": "python",
   "nbconvert_exporter": "python",
   "pygments_lexer": "ipython3",
   "version": "3.7.0"
  }
 },
 "nbformat": 4,
 "nbformat_minor": 2
}

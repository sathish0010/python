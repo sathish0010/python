{
 "cells": [
  {
   "cell_type": "code",
   "execution_count": null,
   "metadata": {},
   "outputs": [
    {
     "name": "stdout",
     "output_type": "stream",
     "text": [
      "['in', 'letter', 'name', 'of', 'the', 'words']\n"
     ]
    }
   ],
   "source": [
    "\n",
    "#Question : Write a program that accepts a sequence of white space separated words as input and \n",
    "#prints the words after removing all duplicate words and sorting them alphanumerically.\n",
    "a=input(\"enter the words:\")\n",
    "l=list(a.split(\" \")) #convert the following words into set\n",
    "l=set(l)\n",
    "l=sorted(l)\n",
    "print(l)"
   ]
  },
  {
   "cell_type": "code",
   "execution_count": 13,
   "metadata": {},
   "outputs": [
    {
     "name": "stdout",
     "output_type": "stream",
     "text": [
      "in letter name of the words\n"
     ]
    }
   ],
   "source": [
    "a=\"name of the words of the words in letter\"\n",
    "l=set(a.split(\" \"))\n",
    "l=set(l) # to remove duplicate values\n",
    "l=sorted(l) # arrange in prper order\n",
    "print(\" \".join(l))"
   ]
  }
 ],
 "metadata": {
  "kernelspec": {
   "display_name": "Python 3",
   "language": "python",
   "name": "python3"
  },
  "language_info": {
   "codemirror_mode": {
    "name": "ipython",
    "version": 3
   },
   "file_extension": ".py",
   "mimetype": "text/x-python",
   "name": "python",
   "nbconvert_exporter": "python",
   "pygments_lexer": "ipython3",
   "version": "3.7.0"
  }
 },
 "nbformat": 4,
 "nbformat_minor": 2
}

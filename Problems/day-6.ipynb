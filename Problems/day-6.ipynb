{
 "cells": [
  {
   "cell_type": "code",
   "execution_count": null,
   "metadata": {},
   "outputs": [
    {
     "name": "stdout",
     "output_type": "stream",
     "text": [
      "1010\n"
     ]
    }
   ],
   "source": [
    "#Question : Write a program which accepts a sequence of comma separated 4 digit binary numbers as its input and then check whether they are divisible by 5 or not. \n",
    "#The numbers that are divisible by 5 are to be printed in a comma separated sequence.\n",
    "\n",
    "#Example:\n",
    "# 0100,0011,1010,1001\n",
    "# Then the output should be:\n",
    "# 1010\n",
    "\n",
    "l=list(map(str,input(\"enter the number:\").split(\",\")))\n",
    "temp=[]\n",
    "for i in l:\n",
    "    if(int(i,2)%5==0):\n",
    "        temp.append(i)\n",
    "print(\",\".join(temp))\n"
   ]
  },
  {
   "cell_type": "code",
   "execution_count": null,
   "metadata": {},
   "outputs": [
    {
     "name": "stdout",
     "output_type": "stream",
     "text": [
      "1010\n"
     ]
    }
   ],
   "source": [
    "l=list(map(str,input(\"enter the number:\").split(\",\"))) # map- is used to convert the string and store in list\n",
    "temp=[] # store the divisible value in the list\n",
    "for i in l: \n",
    "    if(int(i,2)%5==0): #now convert the binary number into integer\n",
    "        temp.append(i)\n",
    "print(\",\".join(temp)) "
   ]
  }
 ],
 "metadata": {
  "kernelspec": {
   "display_name": "Python 3",
   "language": "python",
   "name": "python3"
  },
  "language_info": {
   "codemirror_mode": {
    "name": "ipython",
    "version": 3
   },
   "file_extension": ".py",
   "mimetype": "text/x-python",
   "name": "python",
   "nbconvert_exporter": "python",
   "pygments_lexer": "ipython3",
   "version": "3.7.0"
  }
 },
 "nbformat": 4,
 "nbformat_minor": 2
}

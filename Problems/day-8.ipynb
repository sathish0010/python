{
 "cells": [
  {
   "cell_type": "code",
   "execution_count": 4,
   "metadata": {},
   "outputs": [
    {
     "name": "stdout",
     "output_type": "stream",
     "text": [
      "Letter: 10\n",
      "Digits: 3\n"
     ]
    }
   ],
   "source": [
    "#Question : Write a program that accepts a sentence and calculate the number of letters and digits.\n",
    "#Suppose the following input is supplied to the program:\n",
    "#sample Output :\n",
    "       # hello world! 123\n",
    "       #Then, the output should be:\n",
    "       #LETTERS 10\n",
    "       #DIGITS 3\n",
    "s=input()\n",
    "s=list(s)\n",
    "letters=0\n",
    "digits=0\n",
    "for i in range(len(s)):\n",
    "    if(s[i].isdigit()):\n",
    "        digits=digits+1\n",
    "    if(s[i].isalpha()):\n",
    "        letters=letters+1\n",
    "print(\"Letter:\",str(letters))\n",
    "print(\"Digits:\",str(digits))"
   ]
  },
  {
   "cell_type": "code",
   "execution_count": 12,
   "metadata": {},
   "outputs": [
    {
     "name": "stdout",
     "output_type": "stream",
     "text": [
      "LETTERS 10\n",
      "DIGITS 3\n"
     ]
    }
   ],
   "source": [
    "s=input()\n",
    "s=list(s)\n",
    "digits=0\n",
    "letters=0\n",
    "for i in range(len(s)):\n",
    "    if(s[i].isdigit()):\n",
    "        digits=digits+1\n",
    "    elif(s[i].isalpha()):\n",
    "        letters=letters+1\n",
    "print(\"LETTERS\",(letters))\n",
    "print(\"DIGITS\",(digits))"
   ]
  }
 ],
 "metadata": {
  "kernelspec": {
   "display_name": "Python 3",
   "language": "python",
   "name": "python3"
  },
  "language_info": {
   "codemirror_mode": {
    "name": "ipython",
    "version": 3
   },
   "file_extension": ".py",
   "mimetype": "text/x-python",
   "name": "python",
   "nbconvert_exporter": "python",
   "pygments_lexer": "ipython3",
   "version": "3.7.0"
  }
 },
 "nbformat": 4,
 "nbformat_minor": 2
}

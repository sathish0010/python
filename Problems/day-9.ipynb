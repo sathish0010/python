{
 "cells": [
  {
   "cell_type": "code",
   "execution_count": 3,
   "metadata": {},
   "outputs": [
    {
     "name": "stdout",
     "output_type": "stream",
     "text": [
      "1,3,5,7,9\n"
     ]
    }
   ],
   "source": [
    "#Question : Use a list comprehension to square each odd number in a list. The list is input by a sequence of comma-separated numbers.\n",
    "#Suppose the following input is supplied to the program:\n",
    "#1,2,3,4,5,6,7,8,9\n",
    "#Then, the output should be:\n",
    "#1,3,5,7,9\n",
    "\n",
    "\n",
    "s=input()\n",
    "l=[i for i in s.split(\",\") if int(i)%2!=0]\n",
    "print(\",\".join(l))\n"
   ]
  }
 ],
 "metadata": {
  "kernelspec": {
   "display_name": "Python 3",
   "language": "python",
   "name": "python3"
  },
  "language_info": {
   "codemirror_mode": {
    "name": "ipython",
    "version": 3
   },
   "file_extension": ".py",
   "mimetype": "text/x-python",
   "name": "python",
   "nbconvert_exporter": "python",
   "pygments_lexer": "ipython3",
   "version": "3.7.0"
  }
 },
 "nbformat": 4,
 "nbformat_minor": 2
}

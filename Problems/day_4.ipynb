{
 "cells": [
  {
   "cell_type": "code",
   "execution_count": 7,
   "metadata": {},
   "outputs": [
    {
     "name": "stdout",
     "output_type": "stream",
     "text": [
      "SATHISH\n"
     ]
    }
   ],
   "source": [
    "class a():\n",
    "    def __init__(self):\n",
    "        self.name=\"\"\n",
    "    def getstring(self):\n",
    "        n=input(\"enter name:\")\n",
    "        self.name=n\n",
    "    def printstring(self):\n",
    "        print(self.name.upper())\n",
    "ob=a()\n",
    "ob.getstring()\n",
    "ob.printstring()\n",
    "\n"
   ]
  },
  {
   "cell_type": "code",
   "execution_count": 8,
   "metadata": {},
   "outputs": [
    {
     "name": "stdout",
     "output_type": "stream",
     "text": [
      "MAJA\n"
     ]
    }
   ],
   "source": [
    "#Question : Define a class which has at least two methods:\n",
    "#getString: to get a string from console input\n",
    "#printString: to print the string in upper case.\n",
    "#Also please include simple test function to test the class methods.\n",
    "\n",
    "class name():\n",
    "    def __init__(self):\n",
    "        self.name=\"\"\n",
    "    def getstring(self):\n",
    "        n=input(\"enter the name:\")\n",
    "        self.name=n\n",
    "    def printstring(self):\n",
    "        print(self.name.upper())\n",
    "ob=name()\n",
    "ob.getstring()\n",
    "ob.printstring()\n"
   ]
  },
  {
   "cell_type": "code",
   "execution_count": null,
   "metadata": {},
   "outputs": [],
   "source": []
  }
 ],
 "metadata": {
  "kernelspec": {
   "display_name": "Python 3",
   "language": "python",
   "name": "python3"
  },
  "language_info": {
   "codemirror_mode": {
    "name": "ipython",
    "version": 3
   },
   "file_extension": ".py",
   "mimetype": "text/x-python",
   "name": "python",
   "nbconvert_exporter": "python",
   "pygments_lexer": "ipython3",
   "version": "3.7.0"
  }
 },
 "nbformat": 4,
 "nbformat_minor": 2
}

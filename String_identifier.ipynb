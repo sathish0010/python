{
 "cells": [
  {
   "cell_type": "code",
   "execution_count": null,
   "id": "ec3836d7",
   "metadata": {},
   "outputs": [],
   "source": [
    "# Validation of an Identifier\n",
    "\n",
    "def is_valid(identifier):\n",
    "    if len(identifier) == 0:\n",
    "        return False\n",
    "    \n",
    "    # first character must be letter, '_' or '$'\n",
    "    if not (identifier[0].isalpha() or identifier[0] in ['_', '$']):\n",
    "        return False\n",
    "    \n",
    "    # remaining characters can be letters, digits, '_' or '$'\n",
    "    for ch in identifier[1:]:\n",
    "        if not (ch.isalnum() or ch in ['_', '$']):\n",
    "            return False\n",
    "    \n",
    "    return True\n",
    "\n",
    "\n",
    "# main part\n",
    "identifier = input(\"Enter the identifier: \")\n",
    "\n",
    "if is_valid(identifier):\n",
    "    print(\"Valid identifier\")\n",
    "else:\n",
    "    print(\"Invalid identifier\")\n"
   ]
  }
 ],
 "metadata": {
  "language_info": {
   "name": "python"
  }
 },
 "nbformat": 4,
 "nbformat_minor": 5
}

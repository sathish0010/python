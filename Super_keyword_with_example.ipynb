{
 "cells": [
  {
   "cell_type": "code",
   "execution_count": 19,
   "metadata": {},
   "outputs": [
    {
     "name": "stdout",
     "output_type": "stream",
     "text": [
      "A\n",
      "B\n"
     ]
    }
   ],
   "source": [
    "#lec_22 Super keyword ex\n",
    "class a():\n",
    "    def __init__(self):\n",
    "        print(\"A\")\n",
    "    def display(self):\n",
    "        print(\"you are in class a\")\n",
    "class b():\n",
    "    def __init__(self):\n",
    "        print(\"B\")\n",
    "    def display(self):\n",
    "        print(\"you are in class b\")\n",
    "obj1=a()\n",
    "obj2=b()\n"
   ]
  },
  {
   "cell_type": "code",
   "execution_count": 13,
   "metadata": {},
   "outputs": [
    {
     "name": "stdout",
     "output_type": "stream",
     "text": [
      "A\n"
     ]
    }
   ],
   "source": [
    "#lec_22 Super keyword\n",
    "class a():\n",
    "    def __init__(self):\n",
    "        print(\"A\")\n",
    "    def display(self):\n",
    "        print(\"you are in class a\")\n",
    "class b(a):\n",
    "    def display(self):\n",
    "        print(\"you are in class b\")\n",
    "obj2=b()"
   ]
  },
  {
   "cell_type": "code",
   "execution_count": 31,
   "metadata": {},
   "outputs": [
    {
     "name": "stdout",
     "output_type": "stream",
     "text": [
      "B\n"
     ]
    }
   ],
   "source": [
    "#lec_22 Super keyword ex\n",
    "class a():\n",
    "    def __init__(self):\n",
    "        print(\"A\")\n",
    "    def display(self):\n",
    "        print(\"you are in class a\")\n",
    "class b(a):\n",
    "    def __init__(self):\n",
    "        print(\"B\")\n",
    "    def display(self):\n",
    "        print(\"you are in class b\")\n",
    "obj1=b()\n",
    "\n"
   ]
  },
  {
   "cell_type": "code",
   "execution_count": 30,
   "metadata": {},
   "outputs": [
    {
     "name": "stdout",
     "output_type": "stream",
     "text": [
      "A\n",
      "B\n"
     ]
    }
   ],
   "source": [
    "#lec_22 Super keyword ex\n",
    "class a():\n",
    "    def __init__(self):\n",
    "        print(\"A\")\n",
    "    def display(self):\n",
    "        print(\"you are in class a\")\n",
    "class b(a):\n",
    "    def __init__(self):\n",
    "        super(). __init__() # to call parent class from derived class \n",
    "        print(\"B\")\n",
    "    def display(self):\n",
    "        print(\"you are in class b\")\n",
    "obj1=b()\n",
    "\n"
   ]
  },
  {
   "cell_type": "code",
   "execution_count": 22,
   "metadata": {},
   "outputs": [
    {
     "name": "stdout",
     "output_type": "stream",
     "text": [
      "C\n"
     ]
    }
   ],
   "source": [
    "#lec_22 Super keyword ex\n",
    "class a():\n",
    "    def __init__(self):\n",
    "        print(\"A\")\n",
    "    def display(self):\n",
    "        print(\"you are in class a\")\n",
    "class b(a):\n",
    "    def __init__(self):\n",
    "        super(). __init__()\n",
    "        print(\"B\")\n",
    "    def display(self):\n",
    "        print(\"you are in class b\")\n",
    "class c():\n",
    "    def __init__(self):\n",
    "        print(\"C\")\n",
    "    def display():\n",
    "        print(\"you are in class c\")\n",
    "obj1=c()\n",
    "\n"
   ]
  },
  {
   "cell_type": "code",
   "execution_count": 26,
   "metadata": {},
   "outputs": [
    {
     "name": "stdout",
     "output_type": "stream",
     "text": [
      "A\n",
      "C\n"
     ]
    }
   ],
   "source": [
    "#lec_22 Super keyword ex\n",
    "class a():\n",
    "    def __init__(self):\n",
    "        print(\"A\")\n",
    "    def display(self):\n",
    "        print(\"you are in class a\")\n",
    "class b():\n",
    "    def __init__(self):\n",
    "        super(). __init__()\n",
    "        print(\"B\")\n",
    "    def display(self):\n",
    "        print(\"you are in class b\")\n",
    "class c(a,b):\n",
    "    def __init__(self):\n",
    "        super(). __init__()\n",
    "        print(\"C\")\n",
    "    def display():\n",
    "        print(\"you are in class c\")\n",
    "obj1=c()\n",
    "\n"
   ]
  },
  {
   "cell_type": "code",
   "execution_count": 33,
   "metadata": {},
   "outputs": [
    {
     "name": "stdout",
     "output_type": "stream",
     "text": [
      "A\n",
      "B\n",
      "C\n"
     ]
    }
   ],
   "source": [
    "#lec_22 Super keyword ex\n",
    "class a():\n",
    "    def __init__(self):\n",
    "        print(\"A\")\n",
    "    def display(self):\n",
    "        print(\"you are in class a\")\n",
    "class b():\n",
    "    def __init__(self):\n",
    "        super(). __init__()\n",
    "        print(\"B\")\n",
    "    def display(self):\n",
    "        print(\"you are in class b\")\n",
    "class c(b,a):\n",
    "    def __init__(self):\n",
    "        super(). __init__()\n",
    "        print(\"C\")\n",
    "    def display():\n",
    "        print(\"you are in class c\")\n",
    "obj1=c()\n",
    "\n"
   ]
  },
  {
   "cell_type": "code",
   "execution_count": 32,
   "metadata": {},
   "outputs": [
    {
     "name": "stdout",
     "output_type": "stream",
     "text": [
      "B\n",
      "C\n"
     ]
    }
   ],
   "source": [
    "#lec_22 Super keyword ex\n",
    "class a():\n",
    "    def __init__(self):\n",
    "        print(\"A\")\n",
    "    def display(self):\n",
    "        print(\"you are in class a\")\n",
    "class b():\n",
    "    def __init__(self):\n",
    "        print(\"B\")\n",
    "    def display(self):\n",
    "        print(\"you are in class b\")\n",
    "class c(b,a):\n",
    "    def __init__(self):\n",
    "        super(). __init__()\n",
    "        print(\"C\")\n",
    "    def display():\n",
    "        print(\"you are in class c\")\n",
    "obj1=c()\n",
    "\n"
   ]
  }
 ],
 "metadata": {
  "kernelspec": {
   "display_name": "Python 3",
   "language": "python",
   "name": "python3"
  },
  "language_info": {
   "codemirror_mode": {
    "name": "ipython",
    "version": 3
   },
   "file_extension": ".py",
   "mimetype": "text/x-python",
   "name": "python",
   "nbconvert_exporter": "python",
   "pygments_lexer": "ipython3",
   "version": "3.7.0"
  }
 },
 "nbformat": 4,
 "nbformat_minor": 2
}

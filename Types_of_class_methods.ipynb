{
 "cells": [
  {
   "cell_type": "code",
   "execution_count": 7,
   "metadata": {},
   "outputs": [
    {
     "name": "stdout",
     "output_type": "stream",
     "text": [
      "2000\n"
     ]
    }
   ],
   "source": [
    "#lec_20 ex\n",
    "class laptop:\n",
    "    charger_type=\"b type\"\n",
    "    def __init__(self):\n",
    "        self.brand=\"\"\n",
    "        self.price=40\n",
    "    def setprice(self,price):\n",
    "       self.price= price\n",
    "    def getprice(self):\n",
    "       print(self.price)\n",
    "hp=laptop()\n",
    "hp.setprice(2000)\n",
    "hp.getprice() \n",
    "\n"
   ]
  },
  {
   "cell_type": "code",
   "execution_count": 13,
   "metadata": {},
   "outputs": [
    {
     "name": "stdout",
     "output_type": "stream",
     "text": [
      "2000\n"
     ]
    }
   ],
   "source": [
    "#lec_20 introduction\n",
    "class laptop:\n",
    "    charger_type=\"C type\"\n",
    "    def __init__(self):\n",
    "        self.brand=\"\"\n",
    "        self.price=50\n",
    "    def set_price(self,price):\n",
    "        self.price=35\n",
    "    def get_price(self):\n",
    "        print(self.price)\n",
    "hp=laptop()\n",
    "hp.get_price()"
   ]
  },
  {
   "cell_type": "code",
   "execution_count": 16,
   "metadata": {},
   "outputs": [
    {
     "name": "stdout",
     "output_type": "stream",
     "text": [
      "2000\n",
      "charger type is changed\n"
     ]
    }
   ],
   "source": [
    "#lec_20 decrators (class method)\n",
    "class laptop:\n",
    "    charger_type=\"C type\"\n",
    "    def __init__(self):\n",
    "        self.brand=\"\"\n",
    "        self.price=50\n",
    "    def set_price(self,price):\n",
    "        self.price=price\n",
    "    def get_price(self):\n",
    "        print(self.price)\n",
    "    @classmethod\n",
    "    def change_charger_type(cls):\n",
    "        cls.charger_type=\"B type\"\n",
    "hp=laptop()\n",
    "hp.set_price(2000)\n",
    "hp.get_price()\n",
    "laptop.change_charger_type()\n",
    "print(\"charger type is changed\")"
   ]
  },
  {
   "cell_type": "code",
   "execution_count": 19,
   "metadata": {},
   "outputs": [
    {
     "name": "stdout",
     "output_type": "stream",
     "text": [
      "2000\n",
      "charger type is changed\n",
      "this is a laptop class\n"
     ]
    }
   ],
   "source": [
    "#lec_20 decrators (static method)\n",
    "class laptop:\n",
    "    charger_type=\"C type\"\n",
    "    def __init__(self):\n",
    "        self.brand=\"\"\n",
    "        self.price=50\n",
    "    def set_price(self,price):\n",
    "        self.price=price\n",
    "    def get_price(self):\n",
    "        print(self.price)\n",
    "    @classmethod\n",
    "    def change_charger_type(cls):\n",
    "        cls.charger_type=\"B type\"\n",
    "    @staticmethod\n",
    "    def info():\n",
    "        print(\"this is a laptop class\")\n",
    "hp=laptop()\n",
    "hp.set_price(2000)\n",
    "hp.get_price()\n",
    "laptop.change_charger_type()\n",
    "print(\"charger type is changed\")\n",
    "hp.info()"
   ]
  }
 ],
 "metadata": {
  "kernelspec": {
   "display_name": "Python 3",
   "language": "python",
   "name": "python3"
  },
  "language_info": {
   "codemirror_mode": {
    "name": "ipython",
    "version": 3
   },
   "file_extension": ".py",
   "mimetype": "text/x-python",
   "name": "python",
   "nbconvert_exporter": "python",
   "pygments_lexer": "ipython3",
   "version": "3.7.0"
  }
 },
 "nbformat": 4,
 "nbformat_minor": 2
}

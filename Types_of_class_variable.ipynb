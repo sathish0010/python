{
 "cells": [
  {
   "cell_type": "code",
   "execution_count": 7,
   "metadata": {},
   "outputs": [
    {
     "name": "stdout",
     "output_type": "stream",
     "text": [
      "Brand: Samsung\n",
      "Price: 10000\n",
      "Charger_type: c\n",
      "Brand: mi\n",
      "Price: 12000\n",
      "Charger_type: c\n",
      "Brand: asus\n",
      "Price: 13000\n",
      "Charger_type: b\n"
     ]
    }
   ],
   "source": [
    "#lec_19 Instance variable ex\n",
    "class phone:\n",
    "    def __init__(self,brand,price,ch_type):\n",
    "        self.brand=brand   # Instance variable\n",
    "        self.price=price\n",
    "        self.chr_type=ch_type\n",
    "    def display(self):\n",
    "        print(\"Brand:\",self.brand)\n",
    "        print(\"Price:\",self.price)\n",
    "        print(\"Charger_type:\",self.chr_type)\n",
    "a=phone(\"Samsung\",\"10000\",\"c\")\n",
    "a.display()\n",
    "b=phone(\"mi\",\"12000\",\"c\")\n",
    "b.display()\n",
    "c=phone(\"asus\",\"13000\",\"b\")\n",
    "c.display()\n"
   ]
  },
  {
   "cell_type": "code",
   "execution_count": 12,
   "metadata": {},
   "outputs": [
    {
     "name": "stdout",
     "output_type": "stream",
     "text": [
      "Brand: Samsung\n",
      "Price: 10000\n",
      "Charger_type: C-TYPE\n",
      "Brand: mi\n",
      "Price: 12000\n",
      "Charger_type: C-TYPE\n",
      "Brand: asus\n",
      "Price: 13000\n",
      "Charger_type: C-TYPE\n"
     ]
    }
   ],
   "source": [
    "#lec_19 Instance variable ex\n",
    "class phone:\n",
    "    charger_type=\"C-TYPE\" #variable instance\n",
    "    def __init__(self,brand,price):\n",
    "        self.brand=brand\n",
    "        self.price=price\n",
    "    def display(self):\n",
    "        print(\"Brand:\",self.brand)\n",
    "        print(\"Price:\",self.price)\n",
    "        print(\"Charger_type:\",self.charger_type)\n",
    "a=phone(\"Samsung\",\"10000\")\n",
    "a.display()\n",
    "b=phone(\"mi\",\"12000\")\n",
    "b.display()\n",
    "c=phone(\"asus\",\"13000\")\n",
    "c.display()"
   ]
  }
 ],
 "metadata": {
  "kernelspec": {
   "display_name": "Python 3",
   "language": "python",
   "name": "python3"
  },
  "language_info": {
   "codemirror_mode": {
    "name": "ipython",
    "version": 3
   },
   "file_extension": ".py",
   "mimetype": "text/x-python",
   "name": "python",
   "nbconvert_exporter": "python",
   "pygments_lexer": "ipython3",
   "version": "3.7.0"
  }
 },
 "nbformat": 4,
 "nbformat_minor": 2
}

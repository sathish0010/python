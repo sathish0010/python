{
 "cells": [
  {
   "cell_type": "code",
   "execution_count": null,
   "id": "981f99ad",
   "metadata": {},
   "outputs": [],
   "source": [
    "def count_words(sentence):\n",
    "    words = sentence.split()\n",
    "    return len(words)\n",
    "\n",
    "# Test the function\n",
    "input_str = \"The quick brown fox jumps over the lazy dog\"\n",
    "result = count_words(input_str)\n",
    "print(\"Number of words:\", result)  # Output: 9\n"
   ]
  }
 ],
 "metadata": {
  "language_info": {
   "name": "python"
  }
 },
 "nbformat": 4,
 "nbformat_minor": 5
}

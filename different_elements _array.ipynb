{
 "cells": [
  {
   "cell_type": "code",
   "execution_count": null,
   "id": "04683e5e",
   "metadata": {},
   "outputs": [],
   "source": [
    "arr = [12, 10, 9, 45, 2, 10, 10, 45]\n",
    "visited = [False] * len(arr)\n",
    "\n",
    "for i in range(len(arr)):\n",
    "    if visited[i]:\n",
    "        continue\n",
    "    count = 1\n",
    "    for j in range(i + 1, len(arr)):\n",
    "        if arr[i] == arr[j]:\n",
    "            count += 1\n",
    "            visited[j] = True\n",
    "    if count >= 1:\n",
    "        print(arr[i], end=\" \")\n"
   ]
  }
 ],
 "metadata": {
  "language_info": {
   "name": "python"
  }
 },
 "nbformat": 4,
 "nbformat_minor": 5
}

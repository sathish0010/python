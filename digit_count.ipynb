{
 "cells": [
  {
   "cell_type": "code",
   "execution_count": null,
   "id": "3dcb01be",
   "metadata": {},
   "outputs": [],
   "source": [
    "# Python version of digits_count\n",
    "n = int(input(\"Enter a number: \"))\n",
    "sum = 0\n",
    "\n",
    "while n > 0:\n",
    "    digit = n % 10\n",
    "    sum += digit\n",
    "    n //= 10\n",
    "\n",
    "print(sum)\n"
   ]
  }
 ],
 "metadata": {
  "language_info": {
   "name": "python"
  }
 },
 "nbformat": 4,
 "nbformat_minor": 5
}

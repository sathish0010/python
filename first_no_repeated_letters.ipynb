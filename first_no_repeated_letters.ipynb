{
 "cells": [
  {
   "cell_type": "code",
   "execution_count": null,
   "id": "4b9d9512",
   "metadata": {
    "vscode": {
     "languageId": "plaintext"
    }
   },
   "outputs": [],
   "source": [
    "def first_non_repeating_char(s):\n",
    "    visited = [False] * len(s)\n",
    "    \n",
    "    for i in range(len(s)):\n",
    "        if visited[i]:\n",
    "            continue\n",
    "        count = 1\n",
    "        for j in range(i + 1, len(s)):\n",
    "            if s[i] == s[j]:\n",
    "                count += 1\n",
    "                visited[j] = True\n",
    "        if count == 1:\n",
    "            print(s[i])\n",
    "            return\n",
    "    print('$')\n",
    "\n",
    "# Example usage\n",
    "s = \"aabcdd\"\n",
    "first_non_repeating_char(s)\n"
   ]
  }
 ],
 "metadata": {
  "language_info": {
   "name": "python"
  }
 },
 "nbformat": 4,
 "nbformat_minor": 5
}

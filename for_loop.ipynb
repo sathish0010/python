{
 "cells": [
  {
   "cell_type": "code",
   "execution_count": 1,
   "metadata": {},
   "outputs": [
    {
     "name": "stdout",
     "output_type": "stream",
     "text": [
      "a\n",
      "p\n",
      "p\n",
      "l\n",
      "e\n"
     ]
    }
   ],
   "source": [
    "#lec_8 for loop\n",
    "for i in \"apple\":\n",
    "    print(i)"
   ]
  },
  {
   "cell_type": "code",
   "execution_count": 2,
   "metadata": {},
   "outputs": [
    {
     "name": "stdout",
     "output_type": "stream",
     "text": [
      "b\n",
      "u\n",
      "t\n",
      "t\n",
      "e\n",
      "r\n",
      "f\n",
      "l\n",
      "y\n"
     ]
    }
   ],
   "source": [
    "# ex\n",
    "for i in \"butterfly\":\n",
    "    print(i)"
   ]
  },
  {
   "cell_type": "code",
   "execution_count": 3,
   "metadata": {},
   "outputs": [
    {
     "name": "stdout",
     "output_type": "stream",
     "text": [
      "s\n",
      "u\n",
      "c\n",
      "c\n",
      "e\n",
      "s\n",
      "s\n",
      "f\n",
      "u\n",
      "l\n",
      "l\n"
     ]
    }
   ],
   "source": [
    "#ex\n",
    "for a in \"successfull\":\n",
    "    print(a)"
   ]
  },
  {
   "cell_type": "code",
   "execution_count": 4,
   "metadata": {},
   "outputs": [
    {
     "name": "stdout",
     "output_type": "stream",
     "text": [
      "0\n",
      "1\n",
      "2\n",
      "3\n",
      "4\n",
      "5\n",
      "6\n",
      "7\n",
      "8\n",
      "9\n",
      "10\n"
     ]
    }
   ],
   "source": [
    "#for loop using range\n",
    "for i in range(11):\n",
    "    print(i)"
   ]
  },
  {
   "cell_type": "code",
   "execution_count": 5,
   "metadata": {},
   "outputs": [
    {
     "name": "stdout",
     "output_type": "stream",
     "text": [
      "abc\n",
      "1\n",
      "abc\n",
      "2\n",
      "abc\n",
      "3\n",
      "abc\n",
      "4\n",
      "abc\n",
      "5\n",
      "abc\n",
      "6\n",
      "abc\n",
      "7\n",
      "abc\n",
      "8\n",
      "abc\n",
      "9\n",
      "abc\n",
      "10\n"
     ]
    }
   ],
   "source": [
    "#for loop using range_ex\n",
    "for i in range(1,11):\n",
    "    print('abc')\n",
    "    print(i)"
   ]
  },
  {
   "cell_type": "code",
   "execution_count": 13,
   "metadata": {},
   "outputs": [
    {
     "name": "stdout",
     "output_type": "stream",
     "text": [
      "2x i= 2\n",
      "2x i= 4\n",
      "2x i= 6\n",
      "2x i= 8\n",
      "2x i= 10\n",
      "2x i= 12\n",
      "2x i= 14\n",
      "2x i= 16\n",
      "2x i= 18\n",
      "2x i= 20\n"
     ]
    }
   ],
   "source": [
    "#for loop_ex\n",
    "for i in range(1,11):\n",
    "    print(\"2x\",\"i=\",2*i)"
   ]
  },
  {
   "cell_type": "code",
   "execution_count": 16,
   "metadata": {},
   "outputs": [
    {
     "name": "stdout",
     "output_type": "stream",
     "text": [
      "1 x2= 2\n",
      "2 x2= 4\n",
      "3 x2= 6\n",
      "4 x2= 8\n",
      "5 x2= 10\n",
      "6 x2= 12\n",
      "7 x2= 14\n",
      "8 x2= 16\n",
      "9 x2= 18\n",
      "10 x2= 20\n"
     ]
    }
   ],
   "source": [
    "#for loop_ex\n",
    "for i in range(1,11):\n",
    "    print(i,\"x2=\",i*2)"
   ]
  },
  {
   "cell_type": "code",
   "execution_count": 1,
   "metadata": {},
   "outputs": [
    {
     "name": "stdout",
     "output_type": "stream",
     "text": [
      "1 x4= 4\n",
      "2 x4= 8\n",
      "3 x4= 12\n",
      "4 x4= 16\n",
      "5 x4= 20\n",
      "6 x4= 24\n",
      "7 x4= 28\n",
      "8 x4= 32\n",
      "9 x4= 36\n",
      "10 x4= 40\n"
     ]
    }
   ],
   "source": [
    "#for loop_ex\n",
    "for i in range(1,11):\n",
    "    print(i,\"x4=\",4*i )"
   ]
  }
 ],
 "metadata": {
  "kernelspec": {
   "display_name": "Python 3",
   "language": "python",
   "name": "python3"
  },
  "language_info": {
   "codemirror_mode": {
    "name": "ipython",
    "version": 3
   },
   "file_extension": ".py",
   "mimetype": "text/x-python",
   "name": "python",
   "nbconvert_exporter": "python",
   "pygments_lexer": "ipython3",
   "version": "3.13.1"
  }
 },
 "nbformat": 4,
 "nbformat_minor": 2
}

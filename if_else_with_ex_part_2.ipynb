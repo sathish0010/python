{
 "cells": [
  {
   "cell_type": "code",
   "execution_count": 1,
   "metadata": {},
   "outputs": [
    {
     "name": "stdout",
     "output_type": "stream",
     "text": [
      "Average Student\n"
     ]
    }
   ],
   "source": [
    "\n",
    "\n",
    "score=int(input(\"Score:\"))\n",
    "if(score<35):\n",
    "    print(\"Poor Student\")\n",
    "if(score>35 and score<70):\n",
    "    print(\"Average Student\")\n",
    "if (score>70):\n",
    "    print(\"Good Student\")"
   ]
  },
  {
   "cell_type": "code",
   "execution_count": 6,
   "metadata": {},
   "outputs": [
    {
     "name": "stdout",
     "output_type": "stream",
     "text": [
      "Good student\n"
     ]
    }
   ],
   "source": [
    "#lec_6 if_elif_else ex_5 another method\n",
    "score=int(input(\"Enter the Score:\"))\n",
    "if(score<35):\n",
    "    print(\"Poor student\")\n",
    "elif(score>=35 and score<70):\n",
    "    print(\"Average student\")\n",
    "elif(score>=70 and score<100):\n",
    "    print(\"Good student\")\n",
    "else:\n",
    "    print(\"Invalid input\")"
   ]
  },
  {
   "cell_type": "code",
   "execution_count": 1,
   "metadata": {},
   "outputs": [
    {
     "name": "stdout",
     "output_type": "stream",
     "text": [
      "18\n"
     ]
    }
   ],
   "source": [
    "#lec_6 if_elif_else ex_6\n",
    "a=int(input(\"A:\"))\n",
    "b=int(input(\"B:\"))\n",
    "operation=input(\"add/sub/mul/div\")\n",
    "if(operation==\"add\"):\n",
    "    print(a+b)\n",
    "elif(operation==\"sub\"):\n",
    "    print(a-b)\n",
    "elif(operation==\"mul\"):\n",
    "    print(a*b)\n",
    "elif(operation==\"div\"):\n",
    "    print(a/b)\n",
    "else:\n",
    "    print(\"Invalid operation\")"
   ]
  },
  {
   "cell_type": "code",
   "execution_count": 2,
   "metadata": {},
   "outputs": [
    {
     "name": "stdout",
     "output_type": "stream",
     "text": [
      "you are eligible\n"
     ]
    }
   ],
   "source": [
    "#lec_6 if_elif_else ex_7\n",
    "score=int(input(\"Score percent:\"))\n",
    "if(score>70):\n",
    "    name:input(\"enter your name:\")\n",
    "    dept:input(\"enter the department:\")\n",
    "    lacation:input(\"enter the location:\")\n",
    "    print(\"you are eligible\")\n",
    "else:\n",
    "    print(\"you are not eligible\")"
   ]
  },
  {
   "cell_type": "code",
   "execution_count": null,
   "metadata": {},
   "outputs": [],
   "source": []
  }
 ],
 "metadata": {
  "kernelspec": {
   "display_name": "Python 3",
   "language": "python",
   "name": "python3"
  },
  "language_info": {
   "codemirror_mode": {
    "name": "ipython",
    "version": 3
   },
   "file_extension": ".py",
   "mimetype": "text/x-python",
   "name": "python",
   "nbconvert_exporter": "python",
   "pygments_lexer": "ipython3",
   "version": "3.7.0"
  }
 },
 "nbformat": 4,
 "nbformat_minor": 2
}

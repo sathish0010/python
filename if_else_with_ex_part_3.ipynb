{
 "cells": [
  {
   "cell_type": "code",
   "execution_count": 2,
   "metadata": {},
   "outputs": [
    {
     "name": "stdout",
     "output_type": "stream",
     "text": [
      "your max loan amount is 50000\n"
     ]
    }
   ],
   "source": [
    "#Lec_7 nested_if_ex\n",
    "salary=int(input(\"Enter the salary:\"))\n",
    "age=int(input(\"Enter the age:\"))\n",
    "if(salary>=20000 or age<=25):\n",
    "    loan=int(input(\"Enter the loan amount:\"))\n",
    "    if(loan<=50000):\n",
    "        print(\"you are eligible\")\n",
    "    else:\n",
    "        print(\"your max loan amount is 50000\")\n",
    "else:\n",
    "    print(\"you are not eligible\")"
   ]
  },
  {
   "cell_type": "code",
   "execution_count": 7,
   "metadata": {},
   "outputs": [
    {
     "name": "stdout",
     "output_type": "stream",
     "text": [
      "You are good\n",
      "79.8\n",
      "399\n"
     ]
    }
   ],
   "source": [
    "#lec_7 ex_9\n",
    "maths=int(input(\"Maths:\"))\n",
    "tamil=int(input(\"Tamil:\"))\n",
    "english=int(input(\"English:\"))\n",
    "social=int(input(\"Social:\"))\n",
    "science=int(input(\"science:\"))\n",
    "total=maths+tamil+english+social+science\n",
    "average=total/5\n",
    "if(average<35):\n",
    "    print(\"Additional class is required\")\n",
    "    print(average)\n",
    "else:\n",
    "    print(\"You are good\")\n",
    "    print(average)\n",
    "    print(total)"
   ]
  },
  {
   "cell_type": "code",
   "execution_count": 11,
   "metadata": {},
   "outputs": [],
   "source": [
    "#lec_7 ex_10\n",
    "n=int(input(\"Enter a number:\"))\n",
    "if(n%2==0):\n",
    "    if(n>1 and n<=5):\n",
    "        print(\"not wierd\")\n",
    "elif(n>5 and n<=20):\n",
    "    print(\"wierd\")\n",
    "elif(n>20):\n",
    "    print(\"not wierd\")\n",
    "else:\n",
    "    print(\"wierd\")"
   ]
  }
 ],
 "metadata": {
  "kernelspec": {
   "display_name": "Python 3",
   "language": "python",
   "name": "python3"
  },
  "language_info": {
   "codemirror_mode": {
    "name": "ipython",
    "version": 3
   },
   "file_extension": ".py",
   "mimetype": "text/x-python",
   "name": "python",
   "nbconvert_exporter": "python",
   "pygments_lexer": "ipython3",
   "version": "3.13.1"
  }
 },
 "nbformat": 4,
 "nbformat_minor": 2
}

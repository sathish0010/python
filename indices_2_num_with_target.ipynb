{
 "cells": [
  {
   "cell_type": "code",
   "execution_count": null,
   "id": "a94a55d3",
   "metadata": {},
   "outputs": [],
   "source": [
    "arr = [0, -1, 2, -3, 1]\n",
    "tar = -2\n",
    "found = False\n",
    "\n",
    "for i in range(len(arr)):\n",
    "    for j in range(i + 1, len(arr)):\n",
    "        if arr[i] + arr[j] == tar:\n",
    "            print(arr[i], arr[j])\n",
    "            found = True\n",
    "\n",
    "if not found:\n",
    "    print(\"No pairs found.\")\n"
   ]
  }
 ],
 "metadata": {
  "language_info": {
   "name": "python"
  }
 },
 "nbformat": 4,
 "nbformat_minor": 5
}

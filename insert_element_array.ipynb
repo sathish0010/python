{
 "cells": [
  {
   "cell_type": "code",
   "execution_count": null,
   "id": "1c231023",
   "metadata": {
    "vscode": {
     "languageId": "plaintext"
    }
   },
   "outputs": [],
   "source": [
    "arr = [10, 20, 40, 50]\n",
    "pos = 3   # 1-based index\n",
    "ele = 30\n",
    "\n",
    "newarr = [0] * (len(arr) + 1)\n",
    "\n",
    "# Copy elements before position\n",
    "for i in range(pos - 1):\n",
    "    newarr[i] = arr[i]\n",
    "\n",
    "# Insert the element\n",
    "newarr[pos - 1] = ele\n",
    "\n",
    "# Copy remaining elements\n",
    "for i in range(pos, len(newarr)):\n",
    "    newarr[i] = arr[i - 1]\n",
    "\n",
    "print(*newarr)\n"
   ]
  }
 ],
 "metadata": {
  "language_info": {
   "name": "python"
  }
 },
 "nbformat": 4,
 "nbformat_minor": 5
}

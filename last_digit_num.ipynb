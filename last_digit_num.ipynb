{
 "cells": [
  {
   "cell_type": "code",
   "execution_count": null,
   "id": "1ec458b5",
   "metadata": {},
   "outputs": [],
   "source": [
    "# Program to find the last digit of a number\n",
    "\n",
    "# Taking input from the user\n",
    "a = int(input(\"Enter the number: \"))\n",
    "\n",
    "# Getting the last digit\n",
    "a = a % 10\n",
    "\n",
    "# Displaying the result\n",
    "print(\"Last digit of the number:\", a)\n"
   ]
  }
 ],
 "metadata": {
  "language_info": {
   "name": "python"
  }
 },
 "nbformat": 4,
 "nbformat_minor": 5
}

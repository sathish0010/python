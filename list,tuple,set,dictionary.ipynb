{
 "cells": [
  {
   "cell_type": "code",
   "execution_count": 28,
   "metadata": {},
   "outputs": [
    {
     "name": "stdout",
     "output_type": "stream",
     "text": [
      "[1, 2, 3, 4, 5, 6, True, 'emc', 6]\n"
     ]
    }
   ],
   "source": [
    "#lec_13 list\n",
    "a=[1,2,3,4,5,6]\n",
    "a.append(True)\n",
    "a.append(\"emc\")\n",
    "a.append(6)\n",
    "print(a)"
   ]
  },
  {
   "cell_type": "code",
   "execution_count": 1,
   "metadata": {},
   "outputs": [
    {
     "name": "stdout",
     "output_type": "stream",
     "text": [
      "[1, 2, 3, 4, 5, 6, 10, 11, 12]\n"
     ]
    }
   ],
   "source": [
    "#lec_13 list (extend)\n",
    "a=[1,2,3,4,5,6]\n",
    "b=[10,11,12]\n",
    "a.extend(b)\n",
    "print(a)"
   ]
  },
  {
   "cell_type": "code",
   "execution_count": 4,
   "metadata": {},
   "outputs": [
    {
     "name": "stdout",
     "output_type": "stream",
     "text": [
      "[5, 6, 7, 8, 1, 2, 3, 4]\n"
     ]
    }
   ],
   "source": [
    "# extend another example\n",
    "a=[1,2,3,4]\n",
    "b=[5,6,7,8]\n",
    "b.extend(a)\n",
    "print(b)\n"
   ]
  },
  {
   "cell_type": "code",
   "execution_count": 5,
   "metadata": {},
   "outputs": [
    {
     "name": "stdout",
     "output_type": "stream",
     "text": [
      "[1, 2, 3, 4, 7, 5]\n"
     ]
    }
   ],
   "source": [
    "#list_insert ex\n",
    "a=[1,2,3,4,5]\n",
    "a.insert(4,7)\n",
    "print(a)"
   ]
  },
  {
   "cell_type": "code",
   "execution_count": 6,
   "metadata": {},
   "outputs": [
    {
     "name": "stdout",
     "output_type": "stream",
     "text": [
      "[1, 2, 3, 5, 5]\n"
     ]
    }
   ],
   "source": [
    "#list_insert ex \n",
    "a=[1,2,3,4,5]\n",
    "a[3]=5\n",
    "print(a)"
   ]
  },
  {
   "cell_type": "code",
   "execution_count": 7,
   "metadata": {},
   "outputs": [
    {
     "name": "stdout",
     "output_type": "stream",
     "text": [
      "(1, 2, 3, 4, 5)\n"
     ]
    }
   ],
   "source": [
    "#lec-13 tuple ex\n",
    "a=(1,2,3,4,5)\n",
    "print(a)"
   ]
  },
  {
   "cell_type": "code",
   "execution_count": 8,
   "metadata": {},
   "outputs": [
    {
     "name": "stdout",
     "output_type": "stream",
     "text": [
      "(1, 2, 3, 4, 5)\n",
      "[1, 2, 3, 4, 5]\n"
     ]
    }
   ],
   "source": [
    "#lec_13 tuple ex\n",
    "a=(1,2,3,4,5)\n",
    "b=list(a)\n",
    "print(a)\n",
    "print(b)"
   ]
  },
  {
   "cell_type": "code",
   "execution_count": 9,
   "metadata": {},
   "outputs": [
    {
     "name": "stdout",
     "output_type": "stream",
     "text": [
      "[1, 2, 3, 4]\n"
     ]
    }
   ],
   "source": [
    "#lec_13 tuple ex \n",
    "a=(1,2,3,4,5)\n",
    "b=list(a)\n",
    "b.pop()\n",
    "print(b)"
   ]
  },
  {
   "cell_type": "code",
   "execution_count": 10,
   "metadata": {},
   "outputs": [
    {
     "name": "stdout",
     "output_type": "stream",
     "text": [
      "{1, 2, 3, 4, 5}\n"
     ]
    }
   ],
   "source": [
    "#lec_13 set ex\n",
    "a={1,2,3,4,5}\n",
    "print(a)"
   ]
  },
  {
   "cell_type": "code",
   "execution_count": 19,
   "metadata": {},
   "outputs": [
    {
     "name": "stdout",
     "output_type": "stream",
     "text": [
      "{2, 3, 4, 5, 7, 8}\n"
     ]
    }
   ],
   "source": [
    "#lec_13 set ex\n",
    "a={7,8,2,3,1,4,5}\n",
    "a.pop()\n",
    "print(a)"
   ]
  },
  {
   "cell_type": "code",
   "execution_count": 20,
   "metadata": {},
   "outputs": [
    {
     "name": "stdout",
     "output_type": "stream",
     "text": [
      "{1, 2, 3, 5}\n"
     ]
    }
   ],
   "source": [
    "#lec_13 set ex \n",
    "a={1,2,3,4,5}\n",
    "a.remove(4)\n",
    "print(a)\n"
   ]
  },
  {
   "cell_type": "code",
   "execution_count": 21,
   "metadata": {},
   "outputs": [
    {
     "name": "stdout",
     "output_type": "stream",
     "text": [
      "{1, 2, 3, 4}\n"
     ]
    }
   ],
   "source": [
    "a={1,2,3,4,\"emc\"}\n",
    "a.remove(\"emc\")\n",
    "print(a)"
   ]
  },
  {
   "cell_type": "code",
   "execution_count": 26,
   "metadata": {},
   "outputs": [
    {
     "name": "stdout",
     "output_type": "stream",
     "text": [
      "{'name': 'emc'}\n"
     ]
    }
   ],
   "source": [
    "#lec_13 dictionary ex \n",
    "a={\"name\": \"emc\"}\n",
    "print(a)"
   ]
  },
  {
   "cell_type": "code",
   "execution_count": 40,
   "metadata": {},
   "outputs": [
    {
     "name": "stdout",
     "output_type": "stream",
     "text": [
      "emc\n"
     ]
    }
   ],
   "source": [
    "#lec_13 dictionary ex\n",
    "a={\"name\":\"emc\"}\n",
    "print(a[\"name\"])"
   ]
  },
  {
   "cell_type": "code",
   "execution_count": 41,
   "metadata": {},
   "outputs": [
    {
     "name": "stdout",
     "output_type": "stream",
     "text": [
      "{'name': 'emc', 'age': 2, 'location': 'chennai'}\n"
     ]
    }
   ],
   "source": [
    "#lec_13 dictionary ex\n",
    "a={\"name\":\"emc\",\"age\":2,\"location\":\"chennai\"}\n",
    "print(a)"
   ]
  },
  {
   "cell_type": "code",
   "execution_count": 42,
   "metadata": {},
   "outputs": [
    {
     "name": "stdout",
     "output_type": "stream",
     "text": [
      "{'name': 'emc', 'age': 2, 'location': 'chennai', 'stud': ['bala', 'john']}\n"
     ]
    }
   ],
   "source": [
    "#lec_13 dictionary ex\n",
    "a={\"name\":\"emc\",\"age\":2,\"location\":\"chennai\",\"stud\":[\"bala\",\"john\"]}\n",
    "print(a)\n"
   ]
  },
  {
   "cell_type": "code",
   "execution_count": 44,
   "metadata": {},
   "outputs": [
    {
     "name": "stdout",
     "output_type": "stream",
     "text": [
      "dict_keys(['name', 'age', 'location', 'stud'])\n"
     ]
    }
   ],
   "source": [
    "#lec_13 dictionary ex\n",
    "a={\"name\":\"emc\",\"age\":2,\"location\":\"chennai\",\"stud\":[\"bala\",\"john\"]}\n",
    "print(a.keys())"
   ]
  },
  {
   "cell_type": "code",
   "execution_count": 45,
   "metadata": {},
   "outputs": [
    {
     "name": "stdout",
     "output_type": "stream",
     "text": [
      "dict_values(['emc', 2, 'chennai', ['bala', 'john']])\n"
     ]
    }
   ],
   "source": [
    "#lec_13 dictionary ex\n",
    "a={\"name\":\"emc\",\"age\":2,\"location\":\"chennai\",\"stud\":[\"bala\",\"john\"]}\n",
    "print(a.values())"
   ]
  },
  {
   "cell_type": "code",
   "execution_count": null,
   "metadata": {},
   "outputs": [],
   "source": [
    "#lec_13 dictionary ex\n",
    "a={\"name\":\"emc\",\"age\":2,\"location\":\"chennai\",\"stud\":[\"bala\",\"john\"]}\n",
    "print(a.keys())"
   ]
  },
  {
   "cell_type": "code",
   "execution_count": 46,
   "metadata": {},
   "outputs": [
    {
     "name": "stdout",
     "output_type": "stream",
     "text": [
      "{'name': 'emc', 'age': 2, 'location': 'chennai', 'stud': ['bala', 'john'], 'color': 'red'}\n"
     ]
    }
   ],
   "source": [
    "#lec_13 dictionary ex_insert\n",
    "a={\"name\":\"emc\",\"age\":2,\"location\":\"chennai\",\"stud\":[\"bala\",\"john\"]}\n",
    "a[\"color\"]=\"red\"\n",
    "print(a)"
   ]
  },
  {
   "cell_type": "code",
   "execution_count": 47,
   "metadata": {},
   "outputs": [
    {
     "name": "stdout",
     "output_type": "stream",
     "text": [
      "{'name': 'emc', 'age': 2, 'location': 'madurai', 'stud': ['bala', 'john']}\n"
     ]
    }
   ],
   "source": [
    "#lec_13 dictionary ex_update or modify\n",
    "a={\"name\":\"emc\",\"age\":2,\"location\":\"chennai\",\"stud\":[\"bala\",\"john\"]}\n",
    "a[\"location\"]=\"madurai\"\n",
    "print(a)"
   ]
  },
  {
   "cell_type": "code",
   "execution_count": 48,
   "metadata": {},
   "outputs": [
    {
     "name": "stdout",
     "output_type": "stream",
     "text": [
      "{'name': 'emc', 'location': 'chennai', 'stud': ['bala', 'john']}\n"
     ]
    }
   ],
   "source": [
    "#lec_13 dictionary ex_delete\n",
    "a={\"name\":\"emc\",\"age\":2,\"location\":\"chennai\",\"stud\":[\"bala\",\"john\"]}\n",
    "a.pop(\"age\")\n",
    "print(a)"
   ]
  },
  {
   "cell_type": "code",
   "execution_count": 50,
   "metadata": {},
   "outputs": [
    {
     "name": "stdout",
     "output_type": "stream",
     "text": [
      "{}\n"
     ]
    }
   ],
   "source": [
    "#lec_13 dictionary ex\n",
    "a={\"name\":\"emc\",\"age\":2,\"location\":\"chennai\",\"stud\":[\"bala\",\"john\"]}\n",
    "a.clear()\n",
    "print(a)\n",
    "    "
   ]
  }
 ],
 "metadata": {
  "kernelspec": {
   "display_name": "Python 3",
   "language": "python",
   "name": "python3"
  },
  "language_info": {
   "codemirror_mode": {
    "name": "ipython",
    "version": 3
   },
   "file_extension": ".py",
   "mimetype": "text/x-python",
   "name": "python",
   "nbconvert_exporter": "python",
   "pygments_lexer": "ipython3",
   "version": "3.8.10"
  }
 },
 "nbformat": 4,
 "nbformat_minor": 2
}
